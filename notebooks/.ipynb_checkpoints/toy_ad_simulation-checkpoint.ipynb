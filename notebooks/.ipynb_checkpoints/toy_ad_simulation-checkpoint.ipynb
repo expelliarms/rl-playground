{
 "cells": [
  {
   "cell_type": "markdown",
   "metadata": {},
   "source": [
    "# A Toy Reinforcement Learning Ad Recommender System\n",
    "\n",
    "### References\n",
    "* https://github.com/yeshwanthv5/rl-playground/blob/master/notebooks/exploration_in_bandit_algorithms.ipynb\n",
    "* https://github.com/conormm/bandit_algorithms/blob/master/bandits_post_code.py\n",
    "* https://towardsdatascience.com/solving-multiarmed-bandits-a-comparison-of-epsilon-greedy-and-thompson-sampling-d97167ca9a50"
   ]
  },
  {
   "cell_type": "code",
   "execution_count": 31,
   "metadata": {},
   "outputs": [],
   "source": [
    "import numpy as np\n",
    "import matplotlib.pyplot as plt\n",
    "import seaborn as sns\n",
    "import pandas as pd\n",
    "from scipy.stats import beta"
   ]
  },
  {
   "cell_type": "code",
   "execution_count": 38,
   "metadata": {},
   "outputs": [
    {
     "data": {
      "text/plain": [
       "([0, 1, 2, 3, 4, 5, 6, 7, 8, 9],\n",
       " [0.010374153885699955,\n",
       "  0.5018745921487388,\n",
       "  0.4957732931341461,\n",
       "  0.13382952895927658,\n",
       "  0.14211108545453854,\n",
       "  0.21855867562607822,\n",
       "  0.41850818051045247,\n",
       "  0.24810116841355911,\n",
       "  0.08405965116535008,\n",
       "  0.3454986400504001])"
      ]
     },
     "execution_count": 38,
     "metadata": {},
     "output_type": "execute_result"
    }
   ],
   "source": [
    "num_ads = 10\n",
    "ads = [x for x in range(num_ads)] # Say there are 100 ads in the system\n",
    "\n",
    "# Ground truth popilarity of the items.\n",
    "# For ith item user clicks on it with a probability of gt_ctr[i]\n",
    "# User clicks will be modelled as a Bernoulli distribution.\n",
    "np.random.seed(9)\n",
    "gt_ctr = [np.random.uniform() for x in range(num_ads)]\n",
    "\n",
    "ads, gt_ctr"
   ]
  },
  {
   "cell_type": "code",
   "execution_count": 59,
   "metadata": {},
   "outputs": [],
   "source": [
    "# In this problem users are the environment.\n",
    "class User:\n",
    "    def __init__(self, uid, gt_ctr):\n",
    "        self.uid = uid\n",
    "\n",
    "    def click(self, item_id):\n",
    "        p = np.random.uniform()\n",
    "        # print(p)\n",
    "        if(p < gt_ctr[item_id]):\n",
    "            return 1\n",
    "        else:\n",
    "            return -1"
   ]
  },
  {
   "cell_type": "code",
   "execution_count": 68,
   "metadata": {},
   "outputs": [
    {
     "data": {
      "text/plain": [
       "[-1, -1, 1, -1, -1, -1, 1, -1, -1, 1]"
      ]
     },
     "execution_count": 68,
     "metadata": {},
     "output_type": "execute_result"
    }
   ],
   "source": [
    "num_users = 100\n",
    "users = [User(i) for i in range(num_users)]\n",
    "rewards = [users[0].click(i) for i in range(num_ads)]\n",
    "rewards"
   ]
  },
  {
   "cell_type": "code",
   "execution_count": null,
   "metadata": {},
   "outputs": [],
   "source": [
    "class Recsys:\n",
    "    def __init__(self):\n",
    "        "
   ]
  },
  {
   "cell_type": "code",
   "execution_count": null,
   "metadata": {},
   "outputs": [],
   "source": []
  }
 ],
 "metadata": {
  "kernelspec": {
   "display_name": "Python 3",
   "language": "python",
   "name": "python3"
  },
  "language_info": {
   "codemirror_mode": {
    "name": "ipython",
    "version": 3
   },
   "file_extension": ".py",
   "mimetype": "text/x-python",
   "name": "python",
   "nbconvert_exporter": "python",
   "pygments_lexer": "ipython3",
   "version": "3.7.3"
  }
 },
 "nbformat": 4,
 "nbformat_minor": 2
}
